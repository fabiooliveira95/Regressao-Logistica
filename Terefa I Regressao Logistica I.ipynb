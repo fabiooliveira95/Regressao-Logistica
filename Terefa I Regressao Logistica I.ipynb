{
 "cells": [
  {
   "cell_type": "markdown",
   "metadata": {},
   "source": [
    "# Regressão Logística I\n",
    "## Tarefa I\n",
    "\n",
    "Neste exercício vamos trabalhar com a base \"Heart Disease Data Set\" disponível no site do [UCI](https://archive.ics.uci.edu/ml/datasets/heart+disease).\n",
    "\n",
    "Temos 303 indivíduos e vamos utilizar 13 variáveis disponíveis para prever a presença de doença cardíaca na variável ```num```(a 14$^a$ variável).\n",
    "\n",
    "A descrição das variáveis está recortada abaixo:\n",
    "- age: idade do paciente em anos\n",
    "- sex: sexo (1 = male; 0 = female)  \n",
    "- cp: tipo de dor no peito\n",
    "  - 1: angina típica\n",
    "  - 2: angina atípica\n",
    "  - 3: dor não-angina\n",
    "  - 4: assintomático\n",
    "- trestbps: pressão sanguínea em repouso (em mm Hg na admissão ao hospital\n",
    "- chol: colesterol sérico em mg/dl\n",
    "- fbs: (açúcar no sangue em jejum > 120 mg/dl) (1 = True; 0 = False)\n",
    "- restecg: resultados eletrocardiográficos em repouso\n",
    "  - 0: normal\n",
    "  - 1: tendo anormalidade da onda ST-T (Inversões de onda T e / ou ST com elevação ou depressão de > 0.05 mV)\n",
    "  - 2: mostrando hipertrofia ventricular esquerda provável ou definitiva pelos critérios de Estes\n",
    "- thalach: frequência cardíaca máxima alcançada\n",
    "- exang: angina induzida por exercício(1 = sim; 0 = não)\n",
    "- oldpeak = Depressão de ST induzida por exercício em relação ao repouso\n",
    "- slope: Depressão de ST induzida por exercício em relação ao repouso\n",
    "  - 1: inclinação ascendente\n",
    "  - 2: estável\n",
    "  - 3: inclinação descendente\n",
    "- ca: número de vasos principais (0-3) coloridos por fluorosopia\n",
    "- thal: 3 = normal; 6 = defeito corrigido; 7 = defeito reversível\n",
    "- num: diagnóstico de doença cardíaga (status de doença angiográfica)"
   ]
  },
  {
   "cell_type": "code",
   "metadata": {
    "ExecuteTime": {
     "end_time": "2025-01-31T14:21:43.171021Z",
     "start_time": "2025-01-31T14:21:43.121831Z"
    }
   },
   "source": [
    "import pandas as pd\n",
    "import seaborn as sns\n",
    "import matplotlib.pyplot as plt\n",
    "import numpy as np\n",
    "\n",
    "import statsmodels.formula.api as smf\n",
    "from statsmodels.iolib.summary import summary"
   ],
   "outputs": [],
   "execution_count": 2
  },
  {
   "cell_type": "code",
   "metadata": {
    "tags": [],
    "ExecuteTime": {
     "end_time": "2025-01-31T14:21:45.749025Z",
     "start_time": "2025-01-31T14:21:44.337812Z"
    }
   },
   "source": [
    "url = 'https://archive.ics.uci.edu/ml/machine-learning-databases/heart-disease/processed.cleveland.data'\n",
    "\n",
    "df = pd.read_csv(url, \n",
    "                 names=['age', 'sex', 'cp', 'trestbps', 'chol', 'fbs', 'restecg',\n",
    "                        'thalach', 'exang', 'oldpeak', 'slope', 'ca', 'thal', 'num'])\n",
    "df.head()"
   ],
   "outputs": [
    {
     "data": {
      "text/plain": [
       "    age  sex   cp  trestbps   chol  fbs  restecg  thalach  exang  oldpeak  \\\n",
       "0  63.0  1.0  1.0     145.0  233.0  1.0      2.0    150.0    0.0      2.3   \n",
       "1  67.0  1.0  4.0     160.0  286.0  0.0      2.0    108.0    1.0      1.5   \n",
       "2  67.0  1.0  4.0     120.0  229.0  0.0      2.0    129.0    1.0      2.6   \n",
       "3  37.0  1.0  3.0     130.0  250.0  0.0      0.0    187.0    0.0      3.5   \n",
       "4  41.0  0.0  2.0     130.0  204.0  0.0      2.0    172.0    0.0      1.4   \n",
       "\n",
       "   slope   ca thal  num  \n",
       "0    3.0  0.0  6.0    0  \n",
       "1    2.0  3.0  3.0    2  \n",
       "2    2.0  2.0  7.0    1  \n",
       "3    3.0  0.0  3.0    0  \n",
       "4    1.0  0.0  3.0    0  "
      ],
      "text/html": [
       "<div>\n",
       "<style scoped>\n",
       "    .dataframe tbody tr th:only-of-type {\n",
       "        vertical-align: middle;\n",
       "    }\n",
       "\n",
       "    .dataframe tbody tr th {\n",
       "        vertical-align: top;\n",
       "    }\n",
       "\n",
       "    .dataframe thead th {\n",
       "        text-align: right;\n",
       "    }\n",
       "</style>\n",
       "<table border=\"1\" class=\"dataframe\">\n",
       "  <thead>\n",
       "    <tr style=\"text-align: right;\">\n",
       "      <th></th>\n",
       "      <th>age</th>\n",
       "      <th>sex</th>\n",
       "      <th>cp</th>\n",
       "      <th>trestbps</th>\n",
       "      <th>chol</th>\n",
       "      <th>fbs</th>\n",
       "      <th>restecg</th>\n",
       "      <th>thalach</th>\n",
       "      <th>exang</th>\n",
       "      <th>oldpeak</th>\n",
       "      <th>slope</th>\n",
       "      <th>ca</th>\n",
       "      <th>thal</th>\n",
       "      <th>num</th>\n",
       "    </tr>\n",
       "  </thead>\n",
       "  <tbody>\n",
       "    <tr>\n",
       "      <th>0</th>\n",
       "      <td>63.0</td>\n",
       "      <td>1.0</td>\n",
       "      <td>1.0</td>\n",
       "      <td>145.0</td>\n",
       "      <td>233.0</td>\n",
       "      <td>1.0</td>\n",
       "      <td>2.0</td>\n",
       "      <td>150.0</td>\n",
       "      <td>0.0</td>\n",
       "      <td>2.3</td>\n",
       "      <td>3.0</td>\n",
       "      <td>0.0</td>\n",
       "      <td>6.0</td>\n",
       "      <td>0</td>\n",
       "    </tr>\n",
       "    <tr>\n",
       "      <th>1</th>\n",
       "      <td>67.0</td>\n",
       "      <td>1.0</td>\n",
       "      <td>4.0</td>\n",
       "      <td>160.0</td>\n",
       "      <td>286.0</td>\n",
       "      <td>0.0</td>\n",
       "      <td>2.0</td>\n",
       "      <td>108.0</td>\n",
       "      <td>1.0</td>\n",
       "      <td>1.5</td>\n",
       "      <td>2.0</td>\n",
       "      <td>3.0</td>\n",
       "      <td>3.0</td>\n",
       "      <td>2</td>\n",
       "    </tr>\n",
       "    <tr>\n",
       "      <th>2</th>\n",
       "      <td>67.0</td>\n",
       "      <td>1.0</td>\n",
       "      <td>4.0</td>\n",
       "      <td>120.0</td>\n",
       "      <td>229.0</td>\n",
       "      <td>0.0</td>\n",
       "      <td>2.0</td>\n",
       "      <td>129.0</td>\n",
       "      <td>1.0</td>\n",
       "      <td>2.6</td>\n",
       "      <td>2.0</td>\n",
       "      <td>2.0</td>\n",
       "      <td>7.0</td>\n",
       "      <td>1</td>\n",
       "    </tr>\n",
       "    <tr>\n",
       "      <th>3</th>\n",
       "      <td>37.0</td>\n",
       "      <td>1.0</td>\n",
       "      <td>3.0</td>\n",
       "      <td>130.0</td>\n",
       "      <td>250.0</td>\n",
       "      <td>0.0</td>\n",
       "      <td>0.0</td>\n",
       "      <td>187.0</td>\n",
       "      <td>0.0</td>\n",
       "      <td>3.5</td>\n",
       "      <td>3.0</td>\n",
       "      <td>0.0</td>\n",
       "      <td>3.0</td>\n",
       "      <td>0</td>\n",
       "    </tr>\n",
       "    <tr>\n",
       "      <th>4</th>\n",
       "      <td>41.0</td>\n",
       "      <td>0.0</td>\n",
       "      <td>2.0</td>\n",
       "      <td>130.0</td>\n",
       "      <td>204.0</td>\n",
       "      <td>0.0</td>\n",
       "      <td>2.0</td>\n",
       "      <td>172.0</td>\n",
       "      <td>0.0</td>\n",
       "      <td>1.4</td>\n",
       "      <td>1.0</td>\n",
       "      <td>0.0</td>\n",
       "      <td>3.0</td>\n",
       "      <td>0</td>\n",
       "    </tr>\n",
       "  </tbody>\n",
       "</table>\n",
       "</div>"
      ]
     },
     "execution_count": 3,
     "metadata": {},
     "output_type": "execute_result"
    }
   ],
   "execution_count": 3
  },
  {
   "cell_type": "markdown",
   "metadata": {},
   "source": [
    "1. Monte uma bivariada para a variável ```sex``` com as seguintes estatísticas:\n",
    "\n",
    "- Número de *saudáveis*\n",
    "- Número de *doentes*\n",
    "- Total\n",
    "- Quantidade média de doentes\n",
    "- *Odds*\n",
    "- *Odds ratio* (Use o total como referência)\n",
    "- Logito (LOG(*Odds*))\n",
    "- O LOG do *Odds ratio* (com o total como referência) é chamado de *Weight of Evidence* (WOE). Calcule-o."
   ]
  },
  {
   "cell_type": "code",
   "metadata": {
    "ExecuteTime": {
     "end_time": "2025-01-31T14:21:47.906280Z",
     "start_time": "2025-01-31T14:21:47.899898Z"
    }
   },
   "source": "df.info()\n",
   "outputs": [
    {
     "name": "stdout",
     "output_type": "stream",
     "text": [
      "<class 'pandas.core.frame.DataFrame'>\n",
      "RangeIndex: 303 entries, 0 to 302\n",
      "Data columns (total 14 columns):\n",
      " #   Column    Non-Null Count  Dtype  \n",
      "---  ------    --------------  -----  \n",
      " 0   age       303 non-null    float64\n",
      " 1   sex       303 non-null    float64\n",
      " 2   cp        303 non-null    float64\n",
      " 3   trestbps  303 non-null    float64\n",
      " 4   chol      303 non-null    float64\n",
      " 5   fbs       303 non-null    float64\n",
      " 6   restecg   303 non-null    float64\n",
      " 7   thalach   303 non-null    float64\n",
      " 8   exang     303 non-null    float64\n",
      " 9   oldpeak   303 non-null    float64\n",
      " 10  slope     303 non-null    float64\n",
      " 11  ca        303 non-null    object \n",
      " 12  thal      303 non-null    object \n",
      " 13  num       303 non-null    int64  \n",
      "dtypes: float64(11), int64(1), object(2)\n",
      "memory usage: 33.3+ KB\n"
     ]
    }
   ],
   "execution_count": 4
  },
  {
   "metadata": {
    "ExecuteTime": {
     "end_time": "2025-01-31T14:21:49.460904Z",
     "start_time": "2025-01-31T14:21:49.452861Z"
    }
   },
   "cell_type": "code",
   "source": [
    "# Converter 'num' em variável binária (0 = saudável, 1 = doente)\n",
    "df['num'] = (df['num'] > 0).astype(int)\n",
    "\n",
    "# Criar tabela bivariada\n",
    "tabela_bivariada = df.groupby('sex')['num'].agg(['sum', 'count'])\n",
    "tabela_bivariada.columns = ['Número de Doentes', 'Total']\n",
    "tabela_bivariada['Número de Saudáveis'] = tabela_bivariada['Total'] - tabela_bivariada['Número de Doentes']\n",
    "\n",
    "# Calcular estatísticas adicionais\n",
    "tabela_bivariada['Quantidade Média de Doentes'] = tabela_bivariada['Número de Doentes'] / tabela_bivariada['Total']\n",
    "tabela_bivariada['Odds'] = tabela_bivariada['Número de Doentes'] / tabela_bivariada['Número de Saudáveis']\n",
    "tabela_bivariada['Logito (Log(Odds))'] = np.log(tabela_bivariada['Odds'])\n",
    "\n",
    "# Calcular Odds Ratio em relação ao total da base\n",
    "total_odds = tabela_bivariada['Número de Doentes'].sum() / tabela_bivariada['Número de Saudáveis'].sum()\n",
    "tabela_bivariada['Odds Ratio'] = tabela_bivariada['Odds'] / total_odds\n",
    "\n",
    "# Calcular Weight of Evidence (WOE)\n",
    "tabela_bivariada['WOE (Log do Odds Ratio)'] = np.log(tabela_bivariada['Odds Ratio'])\n",
    "\n",
    "# Exibir a tabela formatada\n",
    "print(tabela_bivariada[['Número de Saudáveis', 'Número de Doentes', 'Total',\n",
    "                        'Quantidade Média de Doentes', 'Odds', 'Odds Ratio',\n",
    "                        'Logito (Log(Odds))', 'WOE (Log do Odds Ratio)']])"
   ],
   "outputs": [
    {
     "name": "stdout",
     "output_type": "stream",
     "text": [
      "     Número de Saudáveis  Número de Doentes  Total  \\\n",
      "sex                                                  \n",
      "0.0                   72                 25     97   \n",
      "1.0                   92                114    206   \n",
      "\n",
      "     Quantidade Média de Doentes      Odds  Odds Ratio  Logito (Log(Odds))  \\\n",
      "sex                                                                          \n",
      "0.0                     0.257732  0.347222    0.409672            -1.05779   \n",
      "1.0                     0.553398  1.239130    1.461996             0.21441   \n",
      "\n",
      "     WOE (Log do Odds Ratio)  \n",
      "sex                           \n",
      "0.0                -0.892398  \n",
      "1.0                 0.379802  \n"
     ]
    }
   ],
   "execution_count": 5
  },
  {
   "metadata": {},
   "cell_type": "code",
   "outputs": [],
   "execution_count": null,
   "source": ""
  },
  {
   "cell_type": "markdown",
   "metadata": {},
   "source": [
    "2. Monte uma bivariada para a variável ```age``` com as seguintes estatísticas:\n",
    "- Categorize a variável em 5 grupos\n",
    "- Calcule as mesmas quantidades calculadas no execício anterior\n",
    "- Calcule também o valor médio da variável ```age```"
   ]
  },
  {
   "metadata": {
    "ExecuteTime": {
     "end_time": "2025-01-31T14:21:52.275494Z",
     "start_time": "2025-01-31T14:21:52.262674Z"
    }
   },
   "cell_type": "code",
   "source": [
    "# Criar 5 categorias de idade usando `pd.cut`\n",
    "df['age_group'] = pd.cut(df['age'], bins=5)\n",
    "\n",
    "\n",
    "# Criar tabela bivariada por grupo de idade\n",
    "tabela_bivariada = df.groupby('age_group')['num'].agg(['sum', 'count'])\n",
    "tabela_bivariada.columns = ['Número de Doentes', 'Total']\n",
    "tabela_bivariada['Número de Saudáveis'] = tabela_bivariada['Total'] - tabela_bivariada['Número de Doentes']\n",
    "\n",
    "\n",
    "# Calcular estatísticas adicionais\n",
    "tabela_bivariada['Quantidade Média de Doentes'] = tabela_bivariada['Número de Doentes'] / tabela_bivariada['Total']\n",
    "tabela_bivariada['Odds'] = tabela_bivariada['Número de Doentes'] / tabela_bivariada['Número de Saudáveis']\n",
    "tabela_bivariada['Logito (Log(Odds))'] = np.log(tabela_bivariada['Odds'])\n",
    "\n",
    "\n",
    "# Calcular Odds Ratio em relação ao total da base\n",
    "total_odds = tabela_bivariada['Número de Doentes'].sum() / tabela_bivariada['Número de Saudáveis'].sum()\n",
    "tabela_bivariada['Odds Ratio'] = tabela_bivariada['Odds'] / total_odds\n",
    "\n",
    "\n",
    "# Calcular Weight of Evidence (WOE)\n",
    "tabela_bivariada['WOE (Log do Odds Ratio)'] = np.log(tabela_bivariada['Odds Ratio'])\n",
    "\n",
    "# Calcular a idade média por grupo\n",
    "tabela_bivariada['Idade Média'] = df.groupby('age_group')['age'].mean()\n",
    "\n",
    "\n",
    "# Exibir a tabela formatada\n",
    "print(tabela_bivariada[['Número de Saudáveis', 'Número de Doentes', 'Total',\n",
    "                        'Quantidade Média de Doentes', 'Odds', 'Odds Ratio',\n",
    "                        'Logito (Log(Odds))', 'WOE (Log do Odds Ratio)', 'Idade Média']])"
   ],
   "outputs": [
    {
     "name": "stdout",
     "output_type": "stream",
     "text": [
      "                Número de Saudáveis  Número de Doentes  Total  \\\n",
      "age_group                                                       \n",
      "(28.952, 38.6]                    8                  3     11   \n",
      "(38.6, 48.2]                     50                 21     71   \n",
      "(48.2, 57.8]                     56                 41     97   \n",
      "(57.8, 67.4]                     40                 67    107   \n",
      "(67.4, 77.0]                     10                  7     17   \n",
      "\n",
      "                Quantidade Média de Doentes      Odds  Odds Ratio  \\\n",
      "age_group                                                           \n",
      "(28.952, 38.6]                     0.272727  0.375000    0.442446   \n",
      "(38.6, 48.2]                       0.295775  0.420000    0.495540   \n",
      "(48.2, 57.8]                       0.422680  0.732143    0.863823   \n",
      "(57.8, 67.4]                       0.626168  1.675000    1.976259   \n",
      "(67.4, 77.0]                       0.411765  0.700000    0.825899   \n",
      "\n",
      "                Logito (Log(Odds))  WOE (Log do Odds Ratio)  Idade Média  \n",
      "age_group                                                                 \n",
      "(28.952, 38.6]           -0.980829                -0.815437    35.181818  \n",
      "(38.6, 48.2]             -0.867501                -0.702108    43.704225  \n",
      "(48.2, 57.8]             -0.311780                -0.146387    53.567010  \n",
      "(57.8, 67.4]              0.515813                 0.681206    61.775701  \n",
      "(67.4, 77.0]             -0.356675                -0.191282    70.529412  \n"
     ]
    },
    {
     "name": "stderr",
     "output_type": "stream",
     "text": [
      "/tmp/ipykernel_8448/2257280341.py:6: FutureWarning: The default of observed=False is deprecated and will be changed to True in a future version of pandas. Pass observed=False to retain current behavior or observed=True to adopt the future default and silence this warning.\n",
      "  tabela_bivariada = df.groupby('age_group')['num'].agg(['sum', 'count'])\n",
      "/tmp/ipykernel_8448/2257280341.py:26: FutureWarning: The default of observed=False is deprecated and will be changed to True in a future version of pandas. Pass observed=False to retain current behavior or observed=True to adopt the future default and silence this warning.\n",
      "  tabela_bivariada['Idade Média'] = df.groupby('age_group')['age'].mean()\n"
     ]
    }
   ],
   "execution_count": 6
  },
  {
   "cell_type": "code",
   "execution_count": null,
   "metadata": {},
   "outputs": [],
   "source": []
  },
  {
   "cell_type": "markdown",
   "metadata": {},
   "source": [
    "3. Visualize a informação da bivariada construída acima através de um gráfico da sua escolha."
   ]
  },
  {
   "cell_type": "code",
   "metadata": {
    "ExecuteTime": {
     "end_time": "2025-01-31T14:38:40.823774Z",
     "start_time": "2025-01-31T14:38:40.661646Z"
    }
   },
   "source": [
    "fig, ax1 = plt.subplots(figsize=(10, 6))\n",
    "\n",
    "# Bar plot for odds_ratio\n",
    "ax1.bar(tabela_bivariada['Número de Doentes'], tabela_bivariada['Total'], color='skyblue', label='Odds Ratio')\n",
    "ax1.set_xlabel('Número de Doentes')\n",
    "ax1.set_ylabel('Logito', color='blue')\n",
    "ax1.tick_params(axis='y', labelcolor='blue')\n",
    "ax1.set_title('Odds Ratio and WOE Across Categories')\n",
    "ax1.legend(loc='upper left')\n",
    "\n",
    "# Line plot for WOE\n",
    "ax2 = ax1.twinx()\n",
    "ax2.plot(tabela_bivariada['Número de Doentes'], tabela_bivariada['Odds'], color='orange', label='WOE', marker='o')\n",
    "ax2.set_ylabel('ODDS', color='orange')\n",
    "ax2.tick_params(axis='y', labelcolor='orange')\n",
    "ax2.legend(loc='upper right')\n",
    "\n",
    "plt.tight_layout()\n",
    "plt.show()"
   ],
   "outputs": [
    {
     "data": {
      "text/plain": [
       "<Figure size 1000x600 with 2 Axes>"
      ],
      "image/png": "[encoded data removed]"
     },
     "metadata": {},
     "output_type": "display_data"
    }
   ],
   "execution_count": 20
  },
  {
   "metadata": {},
   "cell_type": "code",
   "outputs": [],
   "execution_count": null,
   "source": ""
  }
 ],
 "metadata": {
  "kernelspec": {
   "display_name": "Python 3",
   "language": "python",
   "name": "python3"
  },
  "language_info": {
   "codemirror_mode": {
    "name": "ipython",
    "version": 3
   },
   "file_extension": ".py",
   "mimetype": "text/x-python",
   "name": "python",
   "nbconvert_exporter": "python",
   "pygments_lexer": "ipython3",
   "version": "3.8.5"
  }
 },
 "nbformat": 4,
 "nbformat_minor": 4
}
