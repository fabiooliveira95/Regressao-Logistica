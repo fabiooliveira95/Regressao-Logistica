{
 "cells": [
  {
   "cell_type": "markdown",
   "metadata": {},
   "source": [
    "# Regressão Logística I\n",
    "## Tarefa II\n",
    "\n",
    "Vamos trabalhar com a mesma base do exercício anterior, mas vamos aprofundar um pouco mais a nossa regressão."
   ]
  },
  {
   "cell_type": "code",
   "metadata": {
    "ExecuteTime": {
     "end_time": "2025-01-31T22:07:36.864724Z",
     "start_time": "2025-01-31T22:07:36.862113Z"
    }
   },
   "source": [
    "import pandas as pd\n",
    "import seaborn as sns\n",
    "import matplotlib.pyplot as plt\n",
    "import numpy as np\n",
    "\n",
    "import statsmodels.formula.api as smf"
   ],
   "outputs": [],
   "execution_count": 53
  },
  {
   "cell_type": "code",
   "metadata": {
    "tags": [],
    "ExecuteTime": {
     "end_time": "2025-01-31T22:07:40.384282Z",
     "start_time": "2025-01-31T22:07:38.764563Z"
    }
   },
   "source": [
    "url = 'https://archive.ics.uci.edu/ml/machine-learning-databases/heart-disease/processed.cleveland.data'\n",
    "\n",
    "df = pd.read_csv(url, \n",
    "                 names=['age', 'sex', 'cp', 'trestbps', 'chol', 'fbs', 'restecg',\n",
    "                        'thalach', 'exang', 'oldpeak', 'slope', 'ca', 'thal', 'num'])\n",
    "df['flag_doente'] = (df['num']!=0).astype('int64')\n",
    "df.head()"
   ],
   "outputs": [
    {
     "data": {
      "text/plain": [
       "    age  sex   cp  trestbps   chol  fbs  restecg  thalach  exang  oldpeak  \\\n",
       "0  63.0  1.0  1.0     145.0  233.0  1.0      2.0    150.0    0.0      2.3   \n",
       "1  67.0  1.0  4.0     160.0  286.0  0.0      2.0    108.0    1.0      1.5   \n",
       "2  67.0  1.0  4.0     120.0  229.0  0.0      2.0    129.0    1.0      2.6   \n",
       "3  37.0  1.0  3.0     130.0  250.0  0.0      0.0    187.0    0.0      3.5   \n",
       "4  41.0  0.0  2.0     130.0  204.0  0.0      2.0    172.0    0.0      1.4   \n",
       "\n",
       "   slope   ca thal  num  flag_doente  \n",
       "0    3.0  0.0  6.0    0            0  \n",
       "1    2.0  3.0  3.0    2            1  \n",
       "2    2.0  2.0  7.0    1            1  \n",
       "3    3.0  0.0  3.0    0            0  \n",
       "4    1.0  0.0  3.0    0            0  "
      ],
      "text/html": [
       "<div>\n",
       "<style scoped>\n",
       "    .dataframe tbody tr th:only-of-type {\n",
       "        vertical-align: middle;\n",
       "    }\n",
       "\n",
       "    .dataframe tbody tr th {\n",
       "        vertical-align: top;\n",
       "    }\n",
       "\n",
       "    .dataframe thead th {\n",
       "        text-align: right;\n",
       "    }\n",
       "</style>\n",
       "<table border=\"1\" class=\"dataframe\">\n",
       "  <thead>\n",
       "    <tr style=\"text-align: right;\">\n",
       "      <th></th>\n",
       "      <th>age</th>\n",
       "      <th>sex</th>\n",
       "      <th>cp</th>\n",
       "      <th>trestbps</th>\n",
       "      <th>chol</th>\n",
       "      <th>fbs</th>\n",
       "      <th>restecg</th>\n",
       "      <th>thalach</th>\n",
       "      <th>exang</th>\n",
       "      <th>oldpeak</th>\n",
       "      <th>slope</th>\n",
       "      <th>ca</th>\n",
       "      <th>thal</th>\n",
       "      <th>num</th>\n",
       "      <th>flag_doente</th>\n",
       "    </tr>\n",
       "  </thead>\n",
       "  <tbody>\n",
       "    <tr>\n",
       "      <th>0</th>\n",
       "      <td>63.0</td>\n",
       "      <td>1.0</td>\n",
       "      <td>1.0</td>\n",
       "      <td>145.0</td>\n",
       "      <td>233.0</td>\n",
       "      <td>1.0</td>\n",
       "      <td>2.0</td>\n",
       "      <td>150.0</td>\n",
       "      <td>0.0</td>\n",
       "      <td>2.3</td>\n",
       "      <td>3.0</td>\n",
       "      <td>0.0</td>\n",
       "      <td>6.0</td>\n",
       "      <td>0</td>\n",
       "      <td>0</td>\n",
       "    </tr>\n",
       "    <tr>\n",
       "      <th>1</th>\n",
       "      <td>67.0</td>\n",
       "      <td>1.0</td>\n",
       "      <td>4.0</td>\n",
       "      <td>160.0</td>\n",
       "      <td>286.0</td>\n",
       "      <td>0.0</td>\n",
       "      <td>2.0</td>\n",
       "      <td>108.0</td>\n",
       "      <td>1.0</td>\n",
       "      <td>1.5</td>\n",
       "      <td>2.0</td>\n",
       "      <td>3.0</td>\n",
       "      <td>3.0</td>\n",
       "      <td>2</td>\n",
       "      <td>1</td>\n",
       "    </tr>\n",
       "    <tr>\n",
       "      <th>2</th>\n",
       "      <td>67.0</td>\n",
       "      <td>1.0</td>\n",
       "      <td>4.0</td>\n",
       "      <td>120.0</td>\n",
       "      <td>229.0</td>\n",
       "      <td>0.0</td>\n",
       "      <td>2.0</td>\n",
       "      <td>129.0</td>\n",
       "      <td>1.0</td>\n",
       "      <td>2.6</td>\n",
       "      <td>2.0</td>\n",
       "      <td>2.0</td>\n",
       "      <td>7.0</td>\n",
       "      <td>1</td>\n",
       "      <td>1</td>\n",
       "    </tr>\n",
       "    <tr>\n",
       "      <th>3</th>\n",
       "      <td>37.0</td>\n",
       "      <td>1.0</td>\n",
       "      <td>3.0</td>\n",
       "      <td>130.0</td>\n",
       "      <td>250.0</td>\n",
       "      <td>0.0</td>\n",
       "      <td>0.0</td>\n",
       "      <td>187.0</td>\n",
       "      <td>0.0</td>\n",
       "      <td>3.5</td>\n",
       "      <td>3.0</td>\n",
       "      <td>0.0</td>\n",
       "      <td>3.0</td>\n",
       "      <td>0</td>\n",
       "      <td>0</td>\n",
       "    </tr>\n",
       "    <tr>\n",
       "      <th>4</th>\n",
       "      <td>41.0</td>\n",
       "      <td>0.0</td>\n",
       "      <td>2.0</td>\n",
       "      <td>130.0</td>\n",
       "      <td>204.0</td>\n",
       "      <td>0.0</td>\n",
       "      <td>2.0</td>\n",
       "      <td>172.0</td>\n",
       "      <td>0.0</td>\n",
       "      <td>1.4</td>\n",
       "      <td>1.0</td>\n",
       "      <td>0.0</td>\n",
       "      <td>3.0</td>\n",
       "      <td>0</td>\n",
       "      <td>0</td>\n",
       "    </tr>\n",
       "  </tbody>\n",
       "</table>\n",
       "</div>"
      ]
     },
     "execution_count": 54,
     "metadata": {},
     "output_type": "execute_result"
    }
   ],
   "execution_count": 54
  },
  {
   "cell_type": "markdown",
   "metadata": {},
   "source": [
    "A descrição das variáveis está recortada abaixo:\n",
    "- age: idade do paciente em anos\n",
    "- sex: sexo (1 = male; 0 = female)  \n",
    "- cp: tipo de dor no peito\n",
    "  - 1: angina típica\n",
    "  - 2: angina atípica\n",
    "  - 3: dor não-angina\n",
    "  - 4: assintomático\n",
    "- trestbps: pressão sanguínea em repouso (em mm Hg na admissão ao hospital\n",
    "- chol: colesterol sérico em mg/dl\n",
    "- fbs: (açúcar no sangue em jejum > 120 mg/dl) (1 = True; 0 = False)\n",
    "- restecg: resultados eletrocardiográficos em repouso\n",
    "  - 0: normal\n",
    "  - 1: tendo anormalidade da onda ST-T (Inversões de onda T e / ou ST com elevação ou depressão de > 0.05 mV)\n",
    "  - 2: mostrando hipertrofia ventricular esquerda provável ou definitiva pelos critérios de Estes\n",
    "- thalach: frequência cardíaca máxima alcançada\n",
    "- exang: angina induzida por exercício(1 = sim; 0 = não)\n",
    "- oldpeak = Depressão de ST induzida por exercício em relação ao repouso\n",
    "- slope: Depressão de ST induzida por exercício em relação ao repouso\n",
    "  - 1: inclinação ascendente\n",
    "  - 2: estável\n",
    "  - 3: inclinação descendente\n",
    "- ca: número de vasos principais (0-3) coloridos por fluorosopia\n",
    "- thal: 3 = normal; 6 = defeito corrigido; 7 = defeito reversível\n",
    "- num: diagnóstico de doença cardíaga (status de doença angiográfica)"
   ]
  },
  {
   "cell_type": "code",
   "metadata": {
    "ExecuteTime": {
     "end_time": "2025-01-31T22:07:43.271433Z",
     "start_time": "2025-01-31T22:07:43.265809Z"
    }
   },
   "source": [
    "df.info()"
   ],
   "outputs": [
    {
     "name": "stdout",
     "output_type": "stream",
     "text": [
      "<class 'pandas.core.frame.DataFrame'>\n",
      "RangeIndex: 303 entries, 0 to 302\n",
      "Data columns (total 15 columns):\n",
      " #   Column       Non-Null Count  Dtype  \n",
      "---  ------       --------------  -----  \n",
      " 0   age          303 non-null    float64\n",
      " 1   sex          303 non-null    float64\n",
      " 2   cp           303 non-null    float64\n",
      " 3   trestbps     303 non-null    float64\n",
      " 4   chol         303 non-null    float64\n",
      " 5   fbs          303 non-null    float64\n",
      " 6   restecg      303 non-null    float64\n",
      " 7   thalach      303 non-null    float64\n",
      " 8   exang        303 non-null    float64\n",
      " 9   oldpeak      303 non-null    float64\n",
      " 10  slope        303 non-null    float64\n",
      " 11  ca           303 non-null    object \n",
      " 12  thal         303 non-null    object \n",
      " 13  num          303 non-null    int64  \n",
      " 14  flag_doente  303 non-null    int64  \n",
      "dtypes: float64(11), int64(2), object(2)\n",
      "memory usage: 35.6+ KB\n"
     ]
    }
   ],
   "execution_count": 55
  },
  {
   "cell_type": "markdown",
   "metadata": {},
   "source": [
    "1. Considere o script que monta a análise bivariada que você fez na tarefa anterior. Transforme esse script em uma função, que deve:\n",
    "- Ter como parâmetros de entrada:\n",
    "    - Um *dataframe* contendo os dados a serem avaliados\n",
    "    - Um *string* contendo o nome da variável resposta\n",
    "    - Um *string* contendo o nome da variável explicativa\n",
    "- E deve retornar um *dataframe* com os dados da bivariada. \n",
    "**Monte** a mesma bivariada pelo menos três variáveis qualitativas do *data-frame*. Qual delas parece discriminar mais o risco?"
   ]
  },
  {
   "metadata": {
    "ExecuteTime": {
     "end_time": "2025-01-31T22:07:45.667302Z",
     "start_time": "2025-01-31T22:07:45.656234Z"
    }
   },
   "cell_type": "code",
   "source": [
    "# Criando uma funcao para analise bivariada\n",
    "def analise_bivariada(df, var_resposta, var_explicativa):\n",
    "    \"\"\"\n",
    "    Realiza análise bivariada entre uma variável resposta e uma variável explicativa.\n",
    "\n",
    "    Parâmetros:\n",
    "    - df (pd.DataFrame): O dataframe contendo os dados a serem analisados\n",
    "    - var_resposta (str): O nome da variável de resposta (ex.: 'flag_doente')\n",
    "    - var_explicativa (str): O nome da variável explicativa (ex.: 'sex')\n",
    "\n",
    "    Retorna:\n",
    "    - bivariada_df (pd.DataFrame): Um dataframe com a análise bivariada\n",
    "    \"\"\"\n",
    "    bivariada = (\n",
    "        df.groupby(var_explicativa)[var_resposta]\n",
    "        .agg(\n",
    "            saudaveis = lambda x: (x == 0).sum(),\n",
    "            doentes = lambda x: (x == 1).sum()\n",
    "        )\n",
    "        .reset_index()\n",
    "    )\n",
    "    bivariada['total'] = bivariada['saudaveis'] + bivariada['doentes']\n",
    "    bivariada['percent_doentes'] = (bivariada['doentes'] / bivariada['total']) * 100\n",
    "    return bivariada\n",
    "\n",
    "\n",
    "# Analise bivariada para 'sex'\n",
    "bivariada_sex = analise_bivariada(df, 'flag_doente', 'sex')\n",
    "print(\"analise Bivariada (sex):\")\n",
    "print(bivariada_sex)\n",
    "\n",
    "# Analise bivariada para 'cp'\n",
    "bivariada_cp = analise_bivariada(df, 'flag_doente', 'cp')\n",
    "print(\"\\nAnalise Bivariada (cp):\")\n",
    "print(bivariada_cp)\n",
    "\n",
    "# Analise bivariada para 'exang'\n",
    "bivariada_exang = analise_bivariada(df, 'flag_doente', 'exang')\n",
    "print(\"\\nnalise Bivariada (exang):\")\n",
    "print(bivariada_exang)"
   ],
   "outputs": [
    {
     "name": "stdout",
     "output_type": "stream",
     "text": [
      "analise Bivariada (sex):\n",
      "   sex  saudaveis  doentes  total  percent_doentes\n",
      "0  0.0         72       25     97        25.773196\n",
      "1  1.0         92      114    206        55.339806\n",
      "\n",
      "Analise Bivariada (cp):\n",
      "    cp  saudaveis  doentes  total  percent_doentes\n",
      "0  1.0         16        7     23        30.434783\n",
      "1  2.0         41        9     50        18.000000\n",
      "2  3.0         68       18     86        20.930233\n",
      "3  4.0         39      105    144        72.916667\n",
      "\n",
      "nalise Bivariada (exang):\n",
      "   exang  saudaveis  doentes  total  percent_doentes\n",
      "0    0.0        141       63    204        30.882353\n",
      "1    1.0         23       76     99        76.767677\n"
     ]
    }
   ],
   "execution_count": 56
  },
  {
   "metadata": {},
   "cell_type": "code",
   "outputs": [],
   "execution_count": null,
   "source": ""
  },
  {
   "cell_type": "markdown",
   "metadata": {},
   "source": [
    "2. Monte uma função semelhante para categorizar variáveis quantitativas contínuas (com muitas categorias) como ```age```.  \n",
    "    Além dos mesmos parâmetros da função anterior, defina mais um parâmetro como número de categorias que você deseja quebrar. Defina um valor '*default*' de 5 grupos para este parâmetro."
   ]
  },
  {
   "metadata": {
    "ExecuteTime": {
     "end_time": "2025-01-31T22:07:48.756400Z",
     "start_time": "2025-01-31T22:07:48.753662Z"
    }
   },
   "cell_type": "code",
   "source": [
    "def categorizar_variavel_continua(df, var_resposta, var_explicativa, num_grupos=5):\n",
    "    \"\"\"\n",
    "    Categoriza uma variável quantitativa contínua em grupos e realiza análise bivariada.\n",
    "\n",
    "    Parâmetros:\n",
    "    - df (pd.DataFrame): O dataframe contendo os dados a serem analisados\n",
    "    - var_resposta (str): O nome da variável de resposta (ex.: 'flag_doente')\n",
    "    - var_explicativa (str): O nome da variável explicativa contínua a ser categorizada (ex.: 'age')\n",
    "    - num_grupos (int): O número de categorias (grupos) desejados. O padrão é 5.\n",
    "\n",
    "    Retorna:\n",
    "    - bivariada_df (pd.DataFrame): Um dataframe com a análise bivariada.\n",
    "    \"\"\"\n",
    "    # Categorizar a variavel continua em 'num_grupos' categorizar usando os quantis\n",
    "    df[f'{var_explicativa}_categoriza'] = pd.qcut(df[var_explicativa], q=num_grupos, duplicates='drop')\n",
    "\n",
    "    # Realizar a analise bivariada nos grupos da variavel categorizada\n",
    "    bivariada = (\n",
    "        df.gruopby(f'{var_explicativa}_categoriza')[var_resposta]\n",
    "        .agg(\n",
    "            saudaveis=lambda x: (x == 0).sum(),\n",
    "            doentes=lambda  x: (x == 1).sum()\n",
    "        )\n",
    "        .reset_index()\n",
    "    )\n",
    "print(\"Analise Bivariada (age):\")\n",
    "print(categorizar_variavel_continua)"
   ],
   "outputs": [
    {
     "name": "stdout",
     "output_type": "stream",
     "text": [
      "Analise Bivariada (age):\n",
      "<function categorizar_variavel_continua at 0x732412297ba0>\n"
     ]
    }
   ],
   "execution_count": 57
  },
  {
   "cell_type": "code",
   "execution_count": null,
   "metadata": {},
   "outputs": [],
   "source": []
  },
  {
   "cell_type": "markdown",
   "metadata": {},
   "source": [
    "3. Construa um modelo de regressão logística com as variáveis qualitativas: ```sex + cp +  trestbps``` e com a variável quantitativa ```age```.\n",
    "\n",
    "**Interprete os parâmetros.**"
   ]
  },
  {
   "metadata": {
    "ExecuteTime": {
     "end_time": "2025-01-31T22:07:51.573981Z",
     "start_time": "2025-01-31T22:07:51.556910Z"
    }
   },
   "cell_type": "code",
   "source": [
    "import statsmodels.api as sm\n",
    "import patsy\n",
    "\n",
    "# Selecionar as variaveis e ajustar o modelo\n",
    "formula = 'flag_doente ~ C(sex) + C(cp) + trestbps + age'\n",
    "\n",
    "# Ajustando o modelo\n",
    "modelo = sm.Logit.from_formula(formula, data=df).fit()"
   ],
   "outputs": [
    {
     "ename": "TypeError",
     "evalue": "dmatrices() got an unexpected keyword argument 'return_type'",
     "output_type": "error",
     "traceback": [
      "\u001B[0;31m---------------------------------------------------------------------------\u001B[0m",
      "\u001B[0;31mTypeError\u001B[0m                                 Traceback (most recent call last)",
      "Cell \u001B[0;32mIn[58], line 8\u001B[0m\n\u001B[1;32m      5\u001B[0m formula \u001B[38;5;241m=\u001B[39m \u001B[38;5;124m'\u001B[39m\u001B[38;5;124mflag_doente ~ C(sex) + C(cp) + trestbps + age\u001B[39m\u001B[38;5;124m'\u001B[39m\n\u001B[1;32m      7\u001B[0m \u001B[38;5;66;03m# Ajustando o modelo\u001B[39;00m\n\u001B[0;32m----> 8\u001B[0m modelo \u001B[38;5;241m=\u001B[39m \u001B[43msm\u001B[49m\u001B[38;5;241;43m.\u001B[39;49m\u001B[43mLogit\u001B[49m\u001B[38;5;241;43m.\u001B[39;49m\u001B[43mfrom_formula\u001B[49m\u001B[43m(\u001B[49m\u001B[43mformula\u001B[49m\u001B[43m,\u001B[49m\u001B[43m \u001B[49m\u001B[43mdata\u001B[49m\u001B[38;5;241;43m=\u001B[39;49m\u001B[43mdf\u001B[49m\u001B[43m)\u001B[49m\u001B[38;5;241m.\u001B[39mfit()\n",
      "File \u001B[0;32m~/.config/JetBrains/DataSpell2024.3/projects/workspace/.venv1/lib/python3.12/site-packages/statsmodels/base/model.py:203\u001B[0m, in \u001B[0;36mModel.from_formula\u001B[0;34m(cls, formula, data, subset, drop_cols, *args, **kwargs)\u001B[0m\n\u001B[1;32m    200\u001B[0m \u001B[38;5;28;01mif\u001B[39;00m missing \u001B[38;5;241m==\u001B[39m \u001B[38;5;124m'\u001B[39m\u001B[38;5;124mnone\u001B[39m\u001B[38;5;124m'\u001B[39m:  \u001B[38;5;66;03m# with patsy it's drop or raise. let's raise.\u001B[39;00m\n\u001B[1;32m    201\u001B[0m     missing \u001B[38;5;241m=\u001B[39m \u001B[38;5;124m'\u001B[39m\u001B[38;5;124mraise\u001B[39m\u001B[38;5;124m'\u001B[39m\n\u001B[0;32m--> 203\u001B[0m tmp \u001B[38;5;241m=\u001B[39m \u001B[43mhandle_formula_data\u001B[49m\u001B[43m(\u001B[49m\u001B[43mdata\u001B[49m\u001B[43m,\u001B[49m\u001B[43m \u001B[49m\u001B[38;5;28;43;01mNone\u001B[39;49;00m\u001B[43m,\u001B[49m\u001B[43m \u001B[49m\u001B[43mformula\u001B[49m\u001B[43m,\u001B[49m\u001B[43m \u001B[49m\u001B[43mdepth\u001B[49m\u001B[38;5;241;43m=\u001B[39;49m\u001B[43meval_env\u001B[49m\u001B[43m,\u001B[49m\n\u001B[1;32m    204\u001B[0m \u001B[43m                          \u001B[49m\u001B[43mmissing\u001B[49m\u001B[38;5;241;43m=\u001B[39;49m\u001B[43mmissing\u001B[49m\u001B[43m)\u001B[49m\n\u001B[1;32m    205\u001B[0m ((endog, exog), missing_idx, design_info) \u001B[38;5;241m=\u001B[39m tmp\n\u001B[1;32m    206\u001B[0m max_endog \u001B[38;5;241m=\u001B[39m \u001B[38;5;28mcls\u001B[39m\u001B[38;5;241m.\u001B[39m_formula_max_endog\n",
      "File \u001B[0;32m~/.config/JetBrains/DataSpell2024.3/projects/workspace/.venv1/lib/python3.12/site-packages/statsmodels/formula/formulatools.py:63\u001B[0m, in \u001B[0;36mhandle_formula_data\u001B[0;34m(Y, X, formula, depth, missing)\u001B[0m\n\u001B[1;32m     61\u001B[0m \u001B[38;5;28;01melse\u001B[39;00m:\n\u001B[1;32m     62\u001B[0m     \u001B[38;5;28;01mif\u001B[39;00m data_util\u001B[38;5;241m.\u001B[39m_is_using_pandas(Y, \u001B[38;5;28;01mNone\u001B[39;00m):\n\u001B[0;32m---> 63\u001B[0m         result \u001B[38;5;241m=\u001B[39m \u001B[43mdmatrices\u001B[49m\u001B[43m(\u001B[49m\u001B[43mformula\u001B[49m\u001B[43m,\u001B[49m\u001B[43m \u001B[49m\u001B[43mY\u001B[49m\u001B[43m,\u001B[49m\u001B[43m \u001B[49m\u001B[43mdepth\u001B[49m\u001B[43m,\u001B[49m\u001B[43m \u001B[49m\u001B[43mreturn_type\u001B[49m\u001B[38;5;241;43m=\u001B[39;49m\u001B[38;5;124;43m'\u001B[39;49m\u001B[38;5;124;43mdataframe\u001B[39;49m\u001B[38;5;124;43m'\u001B[39;49m\u001B[43m,\u001B[49m\n\u001B[1;32m     64\u001B[0m \u001B[43m                           \u001B[49m\u001B[43mNA_action\u001B[49m\u001B[38;5;241;43m=\u001B[39;49m\u001B[43mna_action\u001B[49m\u001B[43m)\u001B[49m\n\u001B[1;32m     65\u001B[0m     \u001B[38;5;28;01melse\u001B[39;00m:\n\u001B[1;32m     66\u001B[0m         result \u001B[38;5;241m=\u001B[39m dmatrices(formula, Y, depth, return_type\u001B[38;5;241m=\u001B[39m\u001B[38;5;124m'\u001B[39m\u001B[38;5;124mdataframe\u001B[39m\u001B[38;5;124m'\u001B[39m,\n\u001B[1;32m     67\u001B[0m                            NA_action\u001B[38;5;241m=\u001B[39mna_action)\n",
      "\u001B[0;31mTypeError\u001B[0m: dmatrices() got an unexpected keyword argument 'return_type'"
     ]
    }
   ],
   "execution_count": 58
  },
  {
   "cell_type": "code",
   "execution_count": null,
   "metadata": {},
   "outputs": [],
   "source": []
  },
  {
   "cell_type": "markdown",
   "metadata": {},
   "source": [
    "4. Avalie o seu modelo quanto a **calibragem**:\n",
    "- Calcule a probabilidade de evento predita segundo o seu modelo\n",
    "- Categorize essa probabilidade em G=5 grupos\n",
    "- Calcule a probabilidade de evento predita média por grupo\n",
    "- Calcule a taxa de eventos (média da variável indicadora de eventos) por grupo\n",
    "- Compare graficamente o valor eperado versus observado para a taxa de maus por grupo"
   ]
  },
  {
   "metadata": {
    "ExecuteTime": {
     "end_time": "2025-01-31T23:41:05.251952Z",
     "start_time": "2025-01-31T23:41:05.162236Z"
    }
   },
   "cell_type": "code",
   "source": [
    "# Passo 1: Prever as probabilidades de evento\n",
    "df['prob_predita'] = modelo.predict()\n",
    "\n",
    "# Passo 2: Categorizar as probabilidades em 5 grupos\n",
    "df['prob_grupo'] = pd.qcut(df['prob_predita'], q=5, duplicates='drop')\n",
    "\n",
    "# Passo 3: Calcular a probabilidade media predita e a taxa de eventos por grupo\n",
    "calibragem = (\n",
    "    df.groupby('prob_grupo')\n",
    "    .agg(\n",
    "        prob_media_predita=('prob_predita', 'mean'),\n",
    "        taxa_eventos=('flag_doente', 'mean')\n",
    "    )\n",
    "    .reset_index()\n",
    ")\n",
    "\n",
    "# Passo 4: comparar graficamente o valor esperado (predito) versus observado\n",
    "plt.figure(figsize=(8, 6))\n",
    "sns.lineplot(data=calibragem, x='prob_media_predita', y='taxa_eventos', marker='o')\n",
    "plt.plot([0, 1], [0, 1], linestyle='--', color='red') # Linha de calibragem ideal\n",
    "plt.xlabel('Probabilidade Media Predita')\n",
    "plt.ylabel('Taxa observada (Eventos)')\n",
    "plt.title('Calibragem do Modelo')\n",
    "plt.show()"
   ],
   "outputs": [
    {
     "name": "stderr",
     "output_type": "stream",
     "text": [
      "/tmp/ipykernel_23201/1390359462.py:9: FutureWarning: The default of observed=False is deprecated and will be changed to True in a future version of pandas. Pass observed=False to retain current behavior or observed=True to adopt the future default and silence this warning.\n",
      "  df.groupby('prob_grupo')\n"
     ]
    },
    {
     "data": {
      "text/plain": [
       "<Figure size 800x600 with 1 Axes>"
      ],
      "image/png": "[encoded data removed]"
     },
     "metadata": {},
     "output_type": "display_data"
    }
   ],
   "execution_count": 73
  },
  {
   "cell_type": "code",
   "execution_count": null,
   "metadata": {},
   "outputs": [],
   "source": []
  },
  {
   "cell_type": "markdown",
   "metadata": {},
   "source": [
    "5. Avalie o seu modelo quanto a discriminação calculando acurácia, GINI e KS."
   ]
  },
  {
   "metadata": {
    "ExecuteTime": {
     "end_time": "2025-01-31T23:52:40.235797Z",
     "start_time": "2025-01-31T23:52:40.131827Z"
    }
   },
   "cell_type": "code",
   "source": [
    "from sklearn.metrics import accuracy_score, roc_auc_score\n",
    "from scipy.stats import ks_2samp\n",
    "\n",
    "# Acurácia\n",
    "df['classe_predita'] = (df['prob_predita'] >= 0.5).astype(int)\n",
    "acuracia = accuracy_score(df['flag_doente'], df['classe_predita'])\n",
    "\n",
    "# GINI\n",
    "auc = roc_auc_score(df['flag_doente'], df['prob_predita'])\n",
    "gini = 2 * auc - 1\n",
    "\n",
    "# KS\n",
    "eventos = df.loc[df['flag_doente'] == 1, 'prob_predita']\n",
    "nao_eventos = df.loc[df['flag_doente'] == 0, 'prob_predita']\n",
    "ks_stat, _ = ks_2samp(eventos, nao_eventos)\n",
    "\n",
    "# Resultados\n",
    "print(f'Acurácia: {acuracia:.2f}')\n",
    "print(f'GINI: {gini:.2f}')\n",
    "print(f'KS: {ks_stat:.2f}')"
   ],
   "outputs": [
    {
     "name": "stdout",
     "output_type": "stream",
     "text": [
      "Acurácia: 0.78\n",
      "GINI: 0.66\n",
      "KS: 0.58\n"
     ]
    }
   ],
   "execution_count": 74
  },
  {
   "cell_type": "code",
   "execution_count": null,
   "metadata": {},
   "outputs": [],
   "source": []
  },
  {
   "cell_type": "markdown",
   "metadata": {},
   "source": [
    "6. tente melhorar o modelo obtido, por exemplo inserindo ou removendo variáveis.  \n",
    "    Avalie as características do seu modelo (calibragem e acurácia)."
   ]
  },
  {
   "cell_type": "code",
   "metadata": {
    "ExecuteTime": {
     "end_time": "2025-01-31T23:53:43.287152Z",
     "start_time": "2025-01-31T23:53:43.261674Z"
    }
   },
   "source": [
    "# Adicionando `chol` (colesterol sérico) e `thalach` (frequência cardíaca máxima) ao modelo\n",
    "formula_novo_modelo = 'flag_doente ~ C(sex) + C(cp) + trestbps + age + chol + thalach'\n",
    "\n",
    "# Ajustando o modelo com a nova formulação\n",
    "novo_modelo = sm.Logit.from_formula(formula_novo_modelo, data=df).fit()\n",
    "\n",
    "# Resumo do novo modelo\n",
    "print(novo_modelo.summary())"
   ],
   "outputs": [
    {
     "ename": "TypeError",
     "evalue": "dmatrices() got an unexpected keyword argument 'return_type'",
     "output_type": "error",
     "traceback": [
      "\u001B[0;31m---------------------------------------------------------------------------\u001B[0m",
      "\u001B[0;31mTypeError\u001B[0m                                 Traceback (most recent call last)",
      "Cell \u001B[0;32mIn[75], line 5\u001B[0m\n\u001B[1;32m      2\u001B[0m formula_novo_modelo \u001B[38;5;241m=\u001B[39m \u001B[38;5;124m'\u001B[39m\u001B[38;5;124mflag_doente ~ C(sex) + C(cp) + trestbps + age + chol + thalach\u001B[39m\u001B[38;5;124m'\u001B[39m\n\u001B[1;32m      4\u001B[0m \u001B[38;5;66;03m# Ajustando o modelo com a nova formulação\u001B[39;00m\n\u001B[0;32m----> 5\u001B[0m novo_modelo \u001B[38;5;241m=\u001B[39m \u001B[43msm\u001B[49m\u001B[38;5;241;43m.\u001B[39;49m\u001B[43mLogit\u001B[49m\u001B[38;5;241;43m.\u001B[39;49m\u001B[43mfrom_formula\u001B[49m\u001B[43m(\u001B[49m\u001B[43mformula_novo_modelo\u001B[49m\u001B[43m,\u001B[49m\u001B[43m \u001B[49m\u001B[43mdata\u001B[49m\u001B[38;5;241;43m=\u001B[39;49m\u001B[43mdf\u001B[49m\u001B[43m)\u001B[49m\u001B[38;5;241m.\u001B[39mfit()\n\u001B[1;32m      7\u001B[0m \u001B[38;5;66;03m# Resumo do novo modelo\u001B[39;00m\n\u001B[1;32m      8\u001B[0m \u001B[38;5;28mprint\u001B[39m(novo_modelo\u001B[38;5;241m.\u001B[39msummary())\n",
      "File \u001B[0;32m~/.config/JetBrains/DataSpell2024.3/projects/workspace/.venv1/lib/python3.12/site-packages/statsmodels/base/model.py:203\u001B[0m, in \u001B[0;36mModel.from_formula\u001B[0;34m(cls, formula, data, subset, drop_cols, *args, **kwargs)\u001B[0m\n\u001B[1;32m    200\u001B[0m \u001B[38;5;28;01mif\u001B[39;00m missing \u001B[38;5;241m==\u001B[39m \u001B[38;5;124m'\u001B[39m\u001B[38;5;124mnone\u001B[39m\u001B[38;5;124m'\u001B[39m:  \u001B[38;5;66;03m# with patsy it's drop or raise. let's raise.\u001B[39;00m\n\u001B[1;32m    201\u001B[0m     missing \u001B[38;5;241m=\u001B[39m \u001B[38;5;124m'\u001B[39m\u001B[38;5;124mraise\u001B[39m\u001B[38;5;124m'\u001B[39m\n\u001B[0;32m--> 203\u001B[0m tmp \u001B[38;5;241m=\u001B[39m \u001B[43mhandle_formula_data\u001B[49m\u001B[43m(\u001B[49m\u001B[43mdata\u001B[49m\u001B[43m,\u001B[49m\u001B[43m \u001B[49m\u001B[38;5;28;43;01mNone\u001B[39;49;00m\u001B[43m,\u001B[49m\u001B[43m \u001B[49m\u001B[43mformula\u001B[49m\u001B[43m,\u001B[49m\u001B[43m \u001B[49m\u001B[43mdepth\u001B[49m\u001B[38;5;241;43m=\u001B[39;49m\u001B[43meval_env\u001B[49m\u001B[43m,\u001B[49m\n\u001B[1;32m    204\u001B[0m \u001B[43m                          \u001B[49m\u001B[43mmissing\u001B[49m\u001B[38;5;241;43m=\u001B[39;49m\u001B[43mmissing\u001B[49m\u001B[43m)\u001B[49m\n\u001B[1;32m    205\u001B[0m ((endog, exog), missing_idx, design_info) \u001B[38;5;241m=\u001B[39m tmp\n\u001B[1;32m    206\u001B[0m max_endog \u001B[38;5;241m=\u001B[39m \u001B[38;5;28mcls\u001B[39m\u001B[38;5;241m.\u001B[39m_formula_max_endog\n",
      "File \u001B[0;32m~/.config/JetBrains/DataSpell2024.3/projects/workspace/.venv1/lib/python3.12/site-packages/statsmodels/formula/formulatools.py:63\u001B[0m, in \u001B[0;36mhandle_formula_data\u001B[0;34m(Y, X, formula, depth, missing)\u001B[0m\n\u001B[1;32m     61\u001B[0m \u001B[38;5;28;01melse\u001B[39;00m:\n\u001B[1;32m     62\u001B[0m     \u001B[38;5;28;01mif\u001B[39;00m data_util\u001B[38;5;241m.\u001B[39m_is_using_pandas(Y, \u001B[38;5;28;01mNone\u001B[39;00m):\n\u001B[0;32m---> 63\u001B[0m         result \u001B[38;5;241m=\u001B[39m \u001B[43mdmatrices\u001B[49m\u001B[43m(\u001B[49m\u001B[43mformula\u001B[49m\u001B[43m,\u001B[49m\u001B[43m \u001B[49m\u001B[43mY\u001B[49m\u001B[43m,\u001B[49m\u001B[43m \u001B[49m\u001B[43mdepth\u001B[49m\u001B[43m,\u001B[49m\u001B[43m \u001B[49m\u001B[43mreturn_type\u001B[49m\u001B[38;5;241;43m=\u001B[39;49m\u001B[38;5;124;43m'\u001B[39;49m\u001B[38;5;124;43mdataframe\u001B[39;49m\u001B[38;5;124;43m'\u001B[39;49m\u001B[43m,\u001B[49m\n\u001B[1;32m     64\u001B[0m \u001B[43m                           \u001B[49m\u001B[43mNA_action\u001B[49m\u001B[38;5;241;43m=\u001B[39;49m\u001B[43mna_action\u001B[49m\u001B[43m)\u001B[49m\n\u001B[1;32m     65\u001B[0m     \u001B[38;5;28;01melse\u001B[39;00m:\n\u001B[1;32m     66\u001B[0m         result \u001B[38;5;241m=\u001B[39m dmatrices(formula, Y, depth, return_type\u001B[38;5;241m=\u001B[39m\u001B[38;5;124m'\u001B[39m\u001B[38;5;124mdataframe\u001B[39m\u001B[38;5;124m'\u001B[39m,\n\u001B[1;32m     67\u001B[0m                            NA_action\u001B[38;5;241m=\u001B[39mna_action)\n",
      "\u001B[0;31mTypeError\u001B[0m: dmatrices() got an unexpected keyword argument 'return_type'"
     ]
    }
   ],
   "execution_count": 75
  },
  {
   "metadata": {
    "ExecuteTime": {
     "end_time": "2025-01-31T23:53:52.629226Z",
     "start_time": "2025-01-31T23:53:52.619035Z"
    }
   },
   "cell_type": "code",
   "source": [
    "df['prob_predita_novo'] = novo_modelo.predict()\n",
    "\n",
    "# Categorizar em grupos (por quantis)\n",
    "df['prob_grupo_novo'] = pd.qcut(df['prob_predita_novo'], q=5, duplicates='drop')\n",
    "\n",
    "# Calibragem do novo modelo\n",
    "calibragem_novo = (\n",
    "    df.groupby('prob_grupo_novo')\n",
    "    .agg(\n",
    "        prob_media_predita=('prob_predita_novo', 'mean'),\n",
    "        taxa_eventos=('flag_doente', 'mean')\n",
    "    )\n",
    "    .reset_index()\n",
    ")\n",
    "\n",
    "# Gráfico de calibragem\n",
    "plt.figure(figsize=(8, 6))\n",
    "sns.lineplot(data=calibragem_novo, x='prob_media_predita', y='taxa_eventos', marker='o')\n",
    "plt.plot([0, 1], [0, 1], linestyle='--', color='red')  # Linha ideal\n",
    "plt.xlabel('Probabilidade Média Predita')\n",
    "plt.ylabel('Taxa Observada (Eventos)')\n",
    "plt.title('Calibragem do Novo Modelo')\n",
    "plt.show()\n"
   ],
   "outputs": [
    {
     "ename": "NameError",
     "evalue": "name 'novo_modelo' is not defined",
     "output_type": "error",
     "traceback": [
      "\u001B[0;31m---------------------------------------------------------------------------\u001B[0m",
      "\u001B[0;31mNameError\u001B[0m                                 Traceback (most recent call last)",
      "Cell \u001B[0;32mIn[76], line 1\u001B[0m\n\u001B[0;32m----> 1\u001B[0m df[\u001B[38;5;124m'\u001B[39m\u001B[38;5;124mprob_predita_novo\u001B[39m\u001B[38;5;124m'\u001B[39m] \u001B[38;5;241m=\u001B[39m \u001B[43mnovo_modelo\u001B[49m\u001B[38;5;241m.\u001B[39mpredict()\n\u001B[1;32m      3\u001B[0m \u001B[38;5;66;03m# Categorizar em grupos (por quantis)\u001B[39;00m\n\u001B[1;32m      4\u001B[0m df[\u001B[38;5;124m'\u001B[39m\u001B[38;5;124mprob_grupo_novo\u001B[39m\u001B[38;5;124m'\u001B[39m] \u001B[38;5;241m=\u001B[39m pd\u001B[38;5;241m.\u001B[39mqcut(df[\u001B[38;5;124m'\u001B[39m\u001B[38;5;124mprob_predita_novo\u001B[39m\u001B[38;5;124m'\u001B[39m], q\u001B[38;5;241m=\u001B[39m\u001B[38;5;241m5\u001B[39m, duplicates\u001B[38;5;241m=\u001B[39m\u001B[38;5;124m'\u001B[39m\u001B[38;5;124mdrop\u001B[39m\u001B[38;5;124m'\u001B[39m)\n",
      "\u001B[0;31mNameError\u001B[0m: name 'novo_modelo' is not defined"
     ]
    }
   ],
   "execution_count": 76
  },
  {
   "metadata": {
    "ExecuteTime": {
     "end_time": "2025-01-31T23:54:06.173659Z",
     "start_time": "2025-01-31T23:54:06.144932Z"
    }
   },
   "cell_type": "code",
   "source": [
    "# Acurácia do novo modelo\n",
    "df['classe_predita_novo'] = (df['prob_predita_novo'] >= 0.5).astype(int)\n",
    "acuracia_novo = accuracy_score(df['flag_doente'], df['classe_predita_novo'])\n",
    "print(f'Acurácia do Novo Modelo: {acuracia_novo:.2f}')\n",
    "\n",
    "# GINI do novo modelo\n",
    "auc_novo = roc_auc_score(df['flag_doente'], df['prob_predita_novo'])\n",
    "gini_novo = 2 * auc_novo - 1\n",
    "print(f'GINI do Novo Modelo: {gini_novo:.2f}')\n",
    "\n",
    "# KS do novo modelo\n",
    "eventos_novo = df.loc[df['flag_doente'] == 1, 'prob_predita_novo']\n",
    "nao_eventos_novo = df.loc[df['flag_doente'] == 0, 'prob_predita_novo']\n",
    "ks_stat_novo, _ = ks_2samp(eventos_novo, nao_eventos_novo)\n",
    "print(f'KS do Novo Modelo: {ks_stat_novo:.2f}')"
   ],
   "outputs": [
    {
     "ename": "KeyError",
     "evalue": "'prob_predita_novo'",
     "output_type": "error",
     "traceback": [
      "\u001B[0;31m---------------------------------------------------------------------------\u001B[0m",
      "\u001B[0;31mKeyError\u001B[0m                                  Traceback (most recent call last)",
      "File \u001B[0;32m~/.config/JetBrains/DataSpell2024.3/projects/workspace/.venv1/lib/python3.12/site-packages/pandas/core/indexes/base.py:3805\u001B[0m, in \u001B[0;36mIndex.get_loc\u001B[0;34m(self, key)\u001B[0m\n\u001B[1;32m   3804\u001B[0m \u001B[38;5;28;01mtry\u001B[39;00m:\n\u001B[0;32m-> 3805\u001B[0m     \u001B[38;5;28;01mreturn\u001B[39;00m \u001B[38;5;28;43mself\u001B[39;49m\u001B[38;5;241;43m.\u001B[39;49m\u001B[43m_engine\u001B[49m\u001B[38;5;241;43m.\u001B[39;49m\u001B[43mget_loc\u001B[49m\u001B[43m(\u001B[49m\u001B[43mcasted_key\u001B[49m\u001B[43m)\u001B[49m\n\u001B[1;32m   3806\u001B[0m \u001B[38;5;28;01mexcept\u001B[39;00m \u001B[38;5;167;01mKeyError\u001B[39;00m \u001B[38;5;28;01mas\u001B[39;00m err:\n",
      "File \u001B[0;32mindex.pyx:167\u001B[0m, in \u001B[0;36mpandas._libs.index.IndexEngine.get_loc\u001B[0;34m()\u001B[0m\n",
      "File \u001B[0;32mindex.pyx:196\u001B[0m, in \u001B[0;36mpandas._libs.index.IndexEngine.get_loc\u001B[0;34m()\u001B[0m\n",
      "File \u001B[0;32mpandas/_libs/hashtable_class_helper.pxi:7081\u001B[0m, in \u001B[0;36mpandas._libs.hashtable.PyObjectHashTable.get_item\u001B[0;34m()\u001B[0m\n",
      "File \u001B[0;32mpandas/_libs/hashtable_class_helper.pxi:7089\u001B[0m, in \u001B[0;36mpandas._libs.hashtable.PyObjectHashTable.get_item\u001B[0;34m()\u001B[0m\n",
      "\u001B[0;31mKeyError\u001B[0m: 'prob_predita_novo'",
      "\nThe above exception was the direct cause of the following exception:\n",
      "\u001B[0;31mKeyError\u001B[0m                                  Traceback (most recent call last)",
      "Cell \u001B[0;32mIn[77], line 2\u001B[0m\n\u001B[1;32m      1\u001B[0m \u001B[38;5;66;03m# Acurácia do novo modelo\u001B[39;00m\n\u001B[0;32m----> 2\u001B[0m df[\u001B[38;5;124m'\u001B[39m\u001B[38;5;124mclasse_predita_novo\u001B[39m\u001B[38;5;124m'\u001B[39m] \u001B[38;5;241m=\u001B[39m (\u001B[43mdf\u001B[49m\u001B[43m[\u001B[49m\u001B[38;5;124;43m'\u001B[39;49m\u001B[38;5;124;43mprob_predita_novo\u001B[39;49m\u001B[38;5;124;43m'\u001B[39;49m\u001B[43m]\u001B[49m \u001B[38;5;241m>\u001B[39m\u001B[38;5;241m=\u001B[39m \u001B[38;5;241m0.5\u001B[39m)\u001B[38;5;241m.\u001B[39mastype(\u001B[38;5;28mint\u001B[39m)\n\u001B[1;32m      3\u001B[0m acuracia_novo \u001B[38;5;241m=\u001B[39m accuracy_score(df[\u001B[38;5;124m'\u001B[39m\u001B[38;5;124mflag_doente\u001B[39m\u001B[38;5;124m'\u001B[39m], df[\u001B[38;5;124m'\u001B[39m\u001B[38;5;124mclasse_predita_novo\u001B[39m\u001B[38;5;124m'\u001B[39m])\n\u001B[1;32m      4\u001B[0m \u001B[38;5;28mprint\u001B[39m(\u001B[38;5;124mf\u001B[39m\u001B[38;5;124m'\u001B[39m\u001B[38;5;124mAcurácia do Novo Modelo: \u001B[39m\u001B[38;5;132;01m{\u001B[39;00macuracia_novo\u001B[38;5;132;01m:\u001B[39;00m\u001B[38;5;124m.2f\u001B[39m\u001B[38;5;132;01m}\u001B[39;00m\u001B[38;5;124m'\u001B[39m)\n",
      "File \u001B[0;32m~/.config/JetBrains/DataSpell2024.3/projects/workspace/.venv1/lib/python3.12/site-packages/pandas/core/frame.py:4102\u001B[0m, in \u001B[0;36mDataFrame.__getitem__\u001B[0;34m(self, key)\u001B[0m\n\u001B[1;32m   4100\u001B[0m \u001B[38;5;28;01mif\u001B[39;00m \u001B[38;5;28mself\u001B[39m\u001B[38;5;241m.\u001B[39mcolumns\u001B[38;5;241m.\u001B[39mnlevels \u001B[38;5;241m>\u001B[39m \u001B[38;5;241m1\u001B[39m:\n\u001B[1;32m   4101\u001B[0m     \u001B[38;5;28;01mreturn\u001B[39;00m \u001B[38;5;28mself\u001B[39m\u001B[38;5;241m.\u001B[39m_getitem_multilevel(key)\n\u001B[0;32m-> 4102\u001B[0m indexer \u001B[38;5;241m=\u001B[39m \u001B[38;5;28;43mself\u001B[39;49m\u001B[38;5;241;43m.\u001B[39;49m\u001B[43mcolumns\u001B[49m\u001B[38;5;241;43m.\u001B[39;49m\u001B[43mget_loc\u001B[49m\u001B[43m(\u001B[49m\u001B[43mkey\u001B[49m\u001B[43m)\u001B[49m\n\u001B[1;32m   4103\u001B[0m \u001B[38;5;28;01mif\u001B[39;00m is_integer(indexer):\n\u001B[1;32m   4104\u001B[0m     indexer \u001B[38;5;241m=\u001B[39m [indexer]\n",
      "File \u001B[0;32m~/.config/JetBrains/DataSpell2024.3/projects/workspace/.venv1/lib/python3.12/site-packages/pandas/core/indexes/base.py:3812\u001B[0m, in \u001B[0;36mIndex.get_loc\u001B[0;34m(self, key)\u001B[0m\n\u001B[1;32m   3807\u001B[0m     \u001B[38;5;28;01mif\u001B[39;00m \u001B[38;5;28misinstance\u001B[39m(casted_key, \u001B[38;5;28mslice\u001B[39m) \u001B[38;5;129;01mor\u001B[39;00m (\n\u001B[1;32m   3808\u001B[0m         \u001B[38;5;28misinstance\u001B[39m(casted_key, abc\u001B[38;5;241m.\u001B[39mIterable)\n\u001B[1;32m   3809\u001B[0m         \u001B[38;5;129;01mand\u001B[39;00m \u001B[38;5;28many\u001B[39m(\u001B[38;5;28misinstance\u001B[39m(x, \u001B[38;5;28mslice\u001B[39m) \u001B[38;5;28;01mfor\u001B[39;00m x \u001B[38;5;129;01min\u001B[39;00m casted_key)\n\u001B[1;32m   3810\u001B[0m     ):\n\u001B[1;32m   3811\u001B[0m         \u001B[38;5;28;01mraise\u001B[39;00m InvalidIndexError(key)\n\u001B[0;32m-> 3812\u001B[0m     \u001B[38;5;28;01mraise\u001B[39;00m \u001B[38;5;167;01mKeyError\u001B[39;00m(key) \u001B[38;5;28;01mfrom\u001B[39;00m \u001B[38;5;21;01merr\u001B[39;00m\n\u001B[1;32m   3813\u001B[0m \u001B[38;5;28;01mexcept\u001B[39;00m \u001B[38;5;167;01mTypeError\u001B[39;00m:\n\u001B[1;32m   3814\u001B[0m     \u001B[38;5;66;03m# If we have a listlike key, _check_indexing_error will raise\u001B[39;00m\n\u001B[1;32m   3815\u001B[0m     \u001B[38;5;66;03m#  InvalidIndexError. Otherwise we fall through and re-raise\u001B[39;00m\n\u001B[1;32m   3816\u001B[0m     \u001B[38;5;66;03m#  the TypeError.\u001B[39;00m\n\u001B[1;32m   3817\u001B[0m     \u001B[38;5;28mself\u001B[39m\u001B[38;5;241m.\u001B[39m_check_indexing_error(key)\n",
      "\u001B[0;31mKeyError\u001B[0m: 'prob_predita_novo'"
     ]
    }
   ],
   "execution_count": 77
  },
  {
   "metadata": {
    "ExecuteTime": {
     "end_time": "2025-01-31T23:54:11.359172Z",
     "start_time": "2025-01-31T23:54:11.350422Z"
    }
   },
   "cell_type": "code",
   "source": [
    "print(f'Comparação de Modelos:')\n",
    "print(f'- Acurácia: Antigo = {acuracia:.2f}, Novo = {acuracia_novo:.2f}')\n",
    "print(f'- GINI: Antigo = {gini:.2f}, Novo = {gini_novo:.2f}')\n",
    "print(f'- KS: Antigo = {ks_stat:.2f}, Novo = {ks_stat_novo:.2f}')"
   ],
   "outputs": [
    {
     "name": "stdout",
     "output_type": "stream",
     "text": [
      "Comparação de Modelos:\n"
     ]
    },
    {
     "ename": "NameError",
     "evalue": "name 'acuracia_novo' is not defined",
     "output_type": "error",
     "traceback": [
      "\u001B[0;31m---------------------------------------------------------------------------\u001B[0m",
      "\u001B[0;31mNameError\u001B[0m                                 Traceback (most recent call last)",
      "Cell \u001B[0;32mIn[78], line 2\u001B[0m\n\u001B[1;32m      1\u001B[0m \u001B[38;5;28mprint\u001B[39m(\u001B[38;5;124mf\u001B[39m\u001B[38;5;124m'\u001B[39m\u001B[38;5;124mComparação de Modelos:\u001B[39m\u001B[38;5;124m'\u001B[39m)\n\u001B[0;32m----> 2\u001B[0m \u001B[38;5;28mprint\u001B[39m(\u001B[38;5;124mf\u001B[39m\u001B[38;5;124m'\u001B[39m\u001B[38;5;124m- Acurácia: Antigo = \u001B[39m\u001B[38;5;132;01m{\u001B[39;00macuracia\u001B[38;5;132;01m:\u001B[39;00m\u001B[38;5;124m.2f\u001B[39m\u001B[38;5;132;01m}\u001B[39;00m\u001B[38;5;124m, Novo = \u001B[39m\u001B[38;5;132;01m{\u001B[39;00m\u001B[43macuracia_novo\u001B[49m\u001B[38;5;132;01m:\u001B[39;00m\u001B[38;5;124m.2f\u001B[39m\u001B[38;5;132;01m}\u001B[39;00m\u001B[38;5;124m'\u001B[39m)\n\u001B[1;32m      3\u001B[0m \u001B[38;5;28mprint\u001B[39m(\u001B[38;5;124mf\u001B[39m\u001B[38;5;124m'\u001B[39m\u001B[38;5;124m- GINI: Antigo = \u001B[39m\u001B[38;5;132;01m{\u001B[39;00mgini\u001B[38;5;132;01m:\u001B[39;00m\u001B[38;5;124m.2f\u001B[39m\u001B[38;5;132;01m}\u001B[39;00m\u001B[38;5;124m, Novo = \u001B[39m\u001B[38;5;132;01m{\u001B[39;00mgini_novo\u001B[38;5;132;01m:\u001B[39;00m\u001B[38;5;124m.2f\u001B[39m\u001B[38;5;132;01m}\u001B[39;00m\u001B[38;5;124m'\u001B[39m)\n\u001B[1;32m      4\u001B[0m \u001B[38;5;28mprint\u001B[39m(\u001B[38;5;124mf\u001B[39m\u001B[38;5;124m'\u001B[39m\u001B[38;5;124m- KS: Antigo = \u001B[39m\u001B[38;5;132;01m{\u001B[39;00mks_stat\u001B[38;5;132;01m:\u001B[39;00m\u001B[38;5;124m.2f\u001B[39m\u001B[38;5;132;01m}\u001B[39;00m\u001B[38;5;124m, Novo = \u001B[39m\u001B[38;5;132;01m{\u001B[39;00mks_stat_novo\u001B[38;5;132;01m:\u001B[39;00m\u001B[38;5;124m.2f\u001B[39m\u001B[38;5;132;01m}\u001B[39;00m\u001B[38;5;124m'\u001B[39m)\n",
      "\u001B[0;31mNameError\u001B[0m: name 'acuracia_novo' is not defined"
     ]
    }
   ],
   "execution_count": 78
  }
 ],
 "metadata": {
  "kernelspec": {
   "display_name": "Python 3",
   "language": "python",
   "name": "python3"
  },
  "language_info": {
   "codemirror_mode": {
    "name": "ipython",
    "version": 3
   },
   "file_extension": ".py",
   "mimetype": "text/x-python",
   "name": "python",
   "nbconvert_exporter": "python",
   "pygments_lexer": "ipython3",
   "version": "3.8.5"
  }
 },
 "nbformat": 4,
 "nbformat_minor": 4
}
